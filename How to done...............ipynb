{
 "cells": [
  {
   "cell_type": "markdown",
   "metadata": {},
   "source": [
    "## How to send JSON as part of multipart POST-request"
   ]
  },
  {
   "cell_type": "code",
   "execution_count": null,
   "metadata": {},
   "outputs": [],
   "source": [
    "import requests\n",
    "def send_request():\n",
    "    payload = {\n",
    "        \"query\":\"Where am I?\",\n",
    "        \"keywords\": {\n",
    "            \"article\":False,\n",
    "            \"OCR\":False,\n",
    "            \"objects\":False,\n",
    "            \"colors\":None,\n",
    "            \"places\":True,\n",
    "            \"captions\":None,\n",
    "            \"directions\":None\n",
    "        } \n",
    "    }\n",
    "    \n",
    "    files = {\n",
    "         'json': (None, json.dumps(payload), 'application/json'),\n",
    "         'file': (os.path.basename(file), open(file, 'rb'), 'application/octet-stream')\n",
    "    }\n",
    "\n",
    "    r = requests.post(url, files=files)\n",
    "    print(r.content)"
   ]
  },
  {
   "cell_type": "markdown",
   "metadata": {},
   "source": [
    "## How to send json data and file through single post request"
   ]
  },
  {
   "cell_type": "code",
   "execution_count": null,
   "metadata": {},
   "outputs": [],
   "source": [
    "import requests\n",
    "\n",
    "def send_request():\n",
    "    info = {\n",
    "        \"query\":\"Where am I?\",\n",
    "        \"keywords\": {\n",
    "            \"article\":False,\n",
    "            \"OCR\":False,\n",
    "            \"objects\":False,\n",
    "            \"colors\":None,\n",
    "            \"places\":True,\n",
    "            \"captions\":None,\n",
    "            \"directions\":None\n",
    "        }\n",
    "    }\n",
    "\n",
    "    data = {\n",
    "        'token' : auth_token,\n",
    "        'info'  : info,\n",
    "    }\n",
    "\n",
    "    headers = {'Content-type': 'multipart/form-data'}\n",
    "\n",
    "    files = {'document': open('file_name.pdf', 'rb')}\n",
    "\n",
    "    r = requests.post(url, files=files, data=data, headers=headers)\n",
    "    "
   ]
  },
  {
   "cell_type": "markdown",
   "metadata": {},
   "source": [
    "This will not work beacuse, this will only work if data are simple key-value pairs (form parameters-like), but all nested stuff will be truncated as HTTP form-encoding is not capable of representing nested data structures."
   ]
  },
  {
   "cell_type": "code",
   "execution_count": null,
   "metadata": {},
   "outputs": [],
   "source": []
  }
 ],
 "metadata": {
  "kernelspec": {
   "display_name": "Python 3",
   "language": "python",
   "name": "python3"
  },
  "language_info": {
   "codemirror_mode": {
    "name": "ipython",
    "version": 3
   },
   "file_extension": ".py",
   "mimetype": "text/x-python",
   "name": "python",
   "nbconvert_exporter": "python",
   "pygments_lexer": "ipython3",
   "version": "3.6.12"
  }
 },
 "nbformat": 4,
 "nbformat_minor": 2
}
